{
 "cells": [
  {
   "cell_type": "markdown",
   "metadata": {},
   "source": [
    "# Capstone Webscrapping using BeautifulSoup\n",
    "\n",
    "This notebook contains guidances & tasks on the data processing for the application\n",
    "\n",
    "## background\n",
    "\n",
    "In this module we will look at the historical exchange rate of the dollar (US) against the Rupiah. the following data is taken from the **EXCHANGE-RATES** web page that they use word currency exchange rates and currency exchange rate history.\n",
    "\n",
    "we use webscrapping as a data retrieval technique through the website. Data that is successfully extracted will be processed using the help of one of the libraries in python, **BEAUTIFULSOAP.**\n",
    "\n",
    "The following data analysis aims to see the exchange rate of the USD dollar against the Rupiah over the past 1 month. From the historical dara we can see and predict the exchange rate of the dollar (USD) over the next few days.\n",
    "\n",
    "## Requesting the Data and Creating a BeautifulSoup\n",
    "\n",
    "Let's begin with requesting the web from the site with `get` method."
   ]
  },
  {
   "cell_type": "code",
   "execution_count": 2,
   "metadata": {
    "ExecuteTime": {
     "end_time": "2020-01-13T05:12:23.275508Z",
     "start_time": "2020-01-13T05:12:20.009898Z"
    }
   },
   "outputs": [],
   "source": [
    "import requests\n",
    "\n",
    "url_get=requests.get('https://www.exchange-rates.org/history/IDR/USD/T')"
   ]
  },
  {
   "cell_type": "markdown",
   "metadata": {},
   "source": [
    "To visualize what exactly you get from the `request.get`, we can use .content so ee what we exactly get, in here i slice it so it won't make our screen full of the html we get from the page. You can delete the slicing if you want to see what we fully get."
   ]
  },
  {
   "cell_type": "code",
   "execution_count": 3,
   "metadata": {
    "ExecuteTime": {
     "end_time": "2020-01-13T05:12:23.290648Z",
     "start_time": "2020-01-13T05:12:23.277650Z"
    }
   },
   "outputs": [
    {
     "data": {
      "text/plain": [
       "b'!DOCTYPE html>\\r\\n<!--[if lt IE 9]>\\r\\n<html class=\"no-js ie8 oldie\" lang=\"en\" xml:lang=\\'en\\'>\\r\\n<![endif]-->\\r\\n<!--[if gt IE 8]><!--><html class=\"no-js\" lang=\"en\" xml:lang=\\'en\\'><!--<![endif]-->\\r\\n<head>\\r\\n<title>Indonesian Rupiah Exchange Rate - US Dollar - Historical Exchange Rates</title>\\r\\n<meta http-equiv=\"X-UA-Compatible\" content=\"IE=edge\">\\r\\n<meta name=\"viewport\" content=\"width=device-width, initial-scale=1, maximum-scale=5\">\\r\\n<meta charset=\"utf-8\" /><meta http-equiv=\"Content-Type\" content=\"text/ht'"
      ]
     },
     "execution_count": 3,
     "metadata": {},
     "output_type": "execute_result"
    }
   ],
   "source": [
    "url_get.content[1:500]"
   ]
  },
  {
   "cell_type": "markdown",
   "metadata": {},
   "source": [
    "As we can see we get a very unstructured and complex html, which actually contains the codes needed to show the webpages on your web browser. But we as human still confused what and where we can use that piece of code, so here where we use the beautifulsoup. Beautiful soup class will result a beautifulsoup object. Beautiful Soup transforms a complex HTML document into a complex tree of Python objects. \n",
    "\n",
    "Let's make Beautiful soup object and feel free to explore the object here."
   ]
  },
  {
   "cell_type": "code",
   "execution_count": 4,
   "metadata": {
    "ExecuteTime": {
     "end_time": "2020-01-13T05:12:23.808122Z",
     "start_time": "2020-01-13T05:12:23.292610Z"
    }
   },
   "outputs": [
    {
     "name": "stdout",
     "output_type": "stream",
     "text": [
      "<class 'bs4.BeautifulSoup'>\n",
      "<!DOCTYPE html>\n",
      "<!--[if lt IE 9]>\r\n",
      "<html class=\"no-js ie8 oldie\" lang=\"en\" xml:lang='en'>\r\n",
      "<![endif]-->\n",
      "<!--[if gt IE 8]><!-->\n",
      "<html class=\"no-js\" lang=\"en\" xml:lang=\"en\">\n",
      " <!--<![endif]-->\n",
      " <head>\n",
      "  <title>\n",
      "   Indonesian Rupiah Exchange Rate - US Dollar - Historical Exchange Rates\n",
      "  </title>\n",
      "  <meta content=\"IE=edge\" http-equiv=\"X-UA-Compatible\"/>\n",
      "  <meta content=\"width=device-width, initial-scale=1, maximum-scale=5\" name=\"viewport\"/>\n",
      "  <meta charset=\"utf-8\">\n",
      "   <meta content=\"text/html; charse\n"
     ]
    }
   ],
   "source": [
    "from bs4 import BeautifulSoup \n",
    "\n",
    "soup = BeautifulSoup(url_get.content,\"html.parser\")\n",
    "print(type(soup))\n",
    "print(soup.prettify()[:500])"
   ]
  },
  {
   "cell_type": "markdown",
   "metadata": {},
   "source": [
    "## Finding the right key to scrap the data & Extracting the right information"
   ]
  },
  {
   "cell_type": "markdown",
   "metadata": {},
   "source": [
    "In this section we must retrieve the specific data in the information column we need. to retrieve the data, find_all function is the appropriate function used for finding out all tags with the specified tag name or id and returning them as a list of type bs4.\n",
    "\n",
    "the command below is an example of an order to retrieve data in the column **\"USD IDR rate of each date\"**. In extracting data, here are the steps that must be done:\n",
    "\n",
    "    1. determine wich columns to extract\n",
    "    2. hover over the column and then inspect it to retrieve the column link\n",
    "    3. specify a general link to take \n",
    "    4. enter the website into the function in accordance with the information we need.\n",
    "    5. then add .text To get the only text information\n",
    "    \n",
    "Here is the data that reads the results of the steps above"
   ]
  },
  {
   "cell_type": "code",
   "execution_count": 5,
   "metadata": {
    "ExecuteTime": {
     "end_time": "2020-01-13T05:12:23.878904Z",
     "start_time": "2020-01-13T05:12:23.854974Z"
    }
   },
   "outputs": [
    {
     "name": "stdout",
     "output_type": "stream",
     "text": [
      "table class=\"table table-striped table-hover table-hover-solid-row table-simple history-data\">\n",
      " <tbody>\n",
      "  <tr>\n",
      "   <td>\n",
      "    1/10/2022\n",
      "   </td>\n",
      "   <td>\n",
      "    Monday\n",
      "   </td>\n",
      "   <td>\n",
      "    <a href=\"/Rate/USD/IDR/1-10-2022\">\n",
      "     14,295.29905\n",
      "    </a>\n",
      "    IDR\n",
      "   </td>\n",
      "   <td class=\"text-narrow-screen-hidden\">\n",
      "    <a href=\"/Rate/USD/IDR/1-10-2022\">\n",
      "     USD IDR rate for 1/10/2022\n",
      "    </a>\n",
      "   </td>\n",
      "  </tr>\n"
     ]
    }
   ],
   "source": [
    "table = soup.find('table',attrs={'class':'table table-striped table-hover table-hover-solid-row table-simple history-data'})\n",
    "print(table.prettify()[1:400])"
   ]
  },
  {
   "cell_type": "markdown",
   "metadata": {},
   "source": [
    "## Extract the Information\n",
    "\n",
    " All left to do is doing some programming to extract all the data automaticly, but before that let's check how long is our data to help our looping process. Since find_all will always return data in format list, we will use len() to check how long is our list"
   ]
  },
  {
   "cell_type": "code",
   "execution_count": 6,
   "metadata": {},
   "outputs": [
    {
     "data": {
      "text/plain": [
       "129"
      ]
     },
     "execution_count": 6,
     "metadata": {},
     "output_type": "execute_result"
    }
   ],
   "source": [
    "row=table.find_all('td',attrs={'class':'text-narrow-screen-hidden'})\n",
    "row_length=len(row)\n",
    "row_length"
   ]
  },
  {
   "cell_type": "markdown",
   "metadata": {},
   "source": [
    "Based on the information above, we already know the length of the line on the data. There are 130 lines in the diaas data. This information will be used for looping process. Looping processes aim for automatic extraction of data according to the length of the data (rows). so that we do not need to take and search data [.find()] one by one manually.\n",
    "\n",
    "okay now we know the length of our data, now here what we will do for the looping process.\n",
    "\n",
    "Here what the looping do to scrap the information:\n",
    "\n",
    "- First we need to establish a placeholder to receive the information that we scrap\n",
    "- We named our placeholder temp and it's a list.\n",
    "- Then we will make a loop from one until the the length of the table row,\n",
    "- which we will find all cell of the column one and two which contain period and the inflation rate.\n",
    "- Then we will append it to our tuple that we prepared before,\n",
    "- every one iteration we will scrap one line of the table."
   ]
  },
  {
   "cell_type": "code",
   "execution_count": 7,
   "metadata": {
    "ExecuteTime": {
     "end_time": "2020-01-13T05:12:24.008256Z",
     "start_time": "2020-01-13T05:12:23.980358Z"
    }
   },
   "outputs": [
    {
     "data": {
      "text/plain": [
       "[('7/14/2021', '14,404.17703 IDR'),\n",
       " ('7/16/2021', '14,495.41215 IDR'),\n",
       " ('7/20/2021', '14,514.10964 IDR'),\n",
       " ('7/22/2021', '14,508.09177 IDR'),\n",
       " ('7/26/2021', '14,487.54718 IDR'),\n",
       " ('7/28/2021', '14,414.21667 IDR'),\n",
       " ('7/30/2021', '14,501.55250 IDR'),\n",
       " ('8/3/2021', '14,391.49693 IDR'),\n",
       " ('8/5/2021', '14,315.95314 IDR'),\n",
       " ('8/9/2021', '14,363.60538 IDR'),\n",
       " ('8/11/2021', '14,385.48676 IDR'),\n",
       " ('8/13/2021', '14,327.19776 IDR'),\n",
       " ('8/17/2021', '14,439.92418 IDR'),\n",
       " ('8/19/2021', '14,411.77604 IDR'),\n",
       " ('8/23/2021', '14,400.21794 IDR'),\n",
       " ('8/25/2021', '14,386.20000 IDR'),\n",
       " ('8/27/2021', '14,368.74436 IDR'),\n",
       " ('8/31/2021', '14,296.13264 IDR'),\n",
       " ('9/2/2021', '14,248.52165 IDR'),\n",
       " ('9/6/2021', '14,214.47321 IDR'),\n",
       " ('9/8/2021', '14,251.89711 IDR'),\n",
       " ('9/10/2021', '14,226.67070 IDR'),\n",
       " ('9/14/2021', '14,244.84504 IDR'),\n",
       " ('9/16/2021', '14,250.19893 IDR'),\n",
       " ('9/20/2021', '14,235.10302 IDR'),\n",
       " ('9/22/2021', '14,299.15334 IDR'),\n",
       " ('9/24/2021', '14,272.18430 IDR'),\n",
       " ('9/28/2021', '14,271.16497 IDR'),\n",
       " ('9/30/2021', '14,298.48079 IDR'),\n",
       " ('10/4/2021', '14,262.54265 IDR'),\n",
       " ('10/6/2021', '14,245.00000 IDR'),\n",
       " ('10/8/2021', '14,217.98083 IDR'),\n",
       " ('10/12/2021', '14,214.84450 IDR'),\n",
       " ('10/14/2021', '14,105.27223 IDR'),\n",
       " ('10/18/2021', '14,056.43762 IDR'),\n",
       " ('10/20/2021', '14,079.51380 IDR'),\n",
       " ('10/22/2021', '14,110.21079 IDR'),\n",
       " ('10/26/2021', '14,166.19588 IDR'),\n",
       " ('10/28/2021', '14,175.29082 IDR'),\n",
       " ('11/1/2021', '14,233.76847 IDR'),\n",
       " ('11/3/2021', '14,256.74541 IDR'),\n",
       " ('11/5/2021', '14,338.39761 IDR'),\n",
       " ('11/9/2021', '14,243.01887 IDR'),\n",
       " ('11/11/2021', '14,288.84762 IDR'),\n",
       " ('11/15/2021', '14,235.75523 IDR'),\n",
       " ('11/17/2021', '14,246.59228 IDR'),\n",
       " ('11/19/2021', '14,243.55587 IDR'),\n",
       " ('11/23/2021', '14,259.04525 IDR'),\n",
       " ('11/25/2021', '14,283.22294 IDR'),\n",
       " ('11/29/2021', '14,295.39385 IDR'),\n",
       " ('12/1/2021', '14,347.93748 IDR'),\n",
       " ('12/3/2021', '14,389.50020 IDR'),\n",
       " ('12/7/2021', '14,347.32452 IDR'),\n",
       " ('12/9/2021', '14,344.97904 IDR'),\n",
       " ('12/13/2021', '14,357.75629 IDR'),\n",
       " ('12/15/2021', '14,251.62584 IDR'),\n",
       " ('12/17/2021', '14,389.66562 IDR'),\n",
       " ('12/21/2021', '14,304.01234 IDR'),\n",
       " ('12/23/2021', '14,256.89960 IDR'),\n",
       " ('12/27/2021', '14,227.31928 IDR'),\n",
       " ('12/29/2021', '14,198.28676 IDR'),\n",
       " ('12/31/2021', '14,184.77099 IDR'),\n",
       " ('1/4/2022', '14,306.22137 IDR'),\n",
       " ('1/6/2022', '14,387.13904 IDR'),\n",
       " ('1/10/2022', '14,295.29905 IDR'),\n",
       " ('1/7/2022', '14,303.69386 IDR'),\n",
       " ('1/5/2022', '14,376.59427 IDR'),\n",
       " ('1/3/2022', '14,271.10676 IDR'),\n",
       " ('12/30/2021', '14,249.76380 IDR'),\n",
       " ('12/28/2021', '14,221.34174 IDR'),\n",
       " ('12/24/2021', '14,264.51755 IDR'),\n",
       " ('12/22/2021', '14,298.20378 IDR'),\n",
       " ('12/20/2021', '14,382.49273 IDR'),\n",
       " ('12/16/2021', '14,330.91366 IDR'),\n",
       " ('12/14/2021', '14,341.93227 IDR'),\n",
       " ('12/10/2021', '14,370.27875 IDR'),\n",
       " ('12/8/2021', '14,370.91961 IDR'),\n",
       " ('12/6/2021', '14,432.56943 IDR'),\n",
       " ('12/2/2021', '14,392.39767 IDR'),\n",
       " ('11/30/2021', '14,353.30743 IDR'),\n",
       " ('11/26/2021', '14,300.35336 IDR'),\n",
       " ('11/24/2021', '14,320.08606 IDR'),\n",
       " ('11/22/2021', '14,243.50566 IDR'),\n",
       " ('11/18/2021', '14,225.41528 IDR'),\n",
       " ('11/16/2021', '14,222.37140 IDR'),\n",
       " ('11/12/2021', '14,233.63534 IDR'),\n",
       " ('11/10/2021', '14,271.96265 IDR'),\n",
       " ('11/8/2021', '14,257.97264 IDR'),\n",
       " ('11/4/2021', '14,334.06331 IDR'),\n",
       " ('11/2/2021', '14,256.29202 IDR'),\n",
       " ('10/29/2021', '14,288.95452 IDR'),\n",
       " ('10/27/2021', '14,141.55342 IDR'),\n",
       " ('10/25/2021', '14,152.60477 IDR'),\n",
       " ('10/21/2021', '14,121.60389 IDR'),\n",
       " ('10/19/2021', '14,075.46229 IDR'),\n",
       " ('10/15/2021', '14,070.19147 IDR'),\n",
       " ('10/13/2021', '14,204.85164 IDR'),\n",
       " ('10/11/2021', '14,220.90165 IDR'),\n",
       " ('10/7/2021', '14,248.99612 IDR'),\n",
       " ('10/5/2021', '14,260.00000 IDR'),\n",
       " ('10/1/2021', '14,293.86378 IDR'),\n",
       " ('9/29/2021', '14,367.73186 IDR'),\n",
       " ('9/27/2021', '14,264.68406 IDR'),\n",
       " ('9/23/2021', '14,242.87856 IDR'),\n",
       " ('9/21/2021', '14,238.62381 IDR'),\n",
       " ('9/17/2021', '14,293.12609 IDR'),\n",
       " ('9/15/2021', '14,235.96566 IDR'),\n",
       " ('9/13/2021', '14,298.65671 IDR'),\n",
       " ('9/9/2021', '14,260.57530 IDR'),\n",
       " ('9/7/2021', '14,249.33912 IDR'),\n",
       " ('9/3/2021', '14,251.87392 IDR'),\n",
       " ('9/1/2021', '14,257.71231 IDR'),\n",
       " ('8/30/2021', '14,367.01609 IDR'),\n",
       " ('8/26/2021', '14,415.01986 IDR'),\n",
       " ('8/24/2021', '14,379.34070 IDR'),\n",
       " ('8/20/2021', '14,460.04574 IDR'),\n",
       " ('8/18/2021', '14,372.20861 IDR'),\n",
       " ('8/16/2021', '14,376.39296 IDR'),\n",
       " ('8/12/2021', '14,387.28127 IDR'),\n",
       " ('8/10/2021', '14,379.25224 IDR'),\n",
       " ('8/6/2021', '14,403.07373 IDR'),\n",
       " ('8/4/2021', '14,313.11092 IDR'),\n",
       " ('8/2/2021', '14,445.82502 IDR'),\n",
       " ('7/29/2021', '14,467.14994 IDR'),\n",
       " ('7/27/2021', '14,468.66842 IDR'),\n",
       " ('7/23/2021', '14,492.63051 IDR'),\n",
       " ('7/21/2021', '14,495.34596 IDR'),\n",
       " ('7/19/2021', '14,490.12260 IDR'),\n",
       " ('7/15/2021', '14,469.95831 IDR')]"
      ]
     },
     "execution_count": 7,
     "metadata": {},
     "output_type": "execute_result"
    }
   ],
   "source": [
    "temp = [] #initiating a tuple\n",
    "\n",
    "for i in range(0,row_length):\n",
    "\n",
    "   \n",
    "    tanggal = table.find_all('tr')[i].findAll('td')[0].text\n",
    "    harga_harian = table.find_all('tr')[i].findAll('td')[2].text\n",
    "        \n",
    "    temp.append((tanggal,harga_harian))\n",
    "    temp = temp[::-1]\n",
    "\n",
    "temp"
   ]
  },
  {
   "cell_type": "markdown",
   "metadata": {},
   "source": [
    "### Looping Process Succeed\n",
    "\n"
   ]
  },
  {
   "cell_type": "markdown",
   "metadata": {},
   "source": [
    "## Creating data frame & Data wrangling"
   ]
  },
  {
   "cell_type": "markdown",
   "metadata": {},
   "source": [
    "Now we have done the data extraction with the looping process. To be able to do further analysis, then we move it in to data frame (df). check our dataframe data types to see if our data is useable. "
   ]
  },
  {
   "cell_type": "code",
   "execution_count": 50,
   "metadata": {
    "ExecuteTime": {
     "end_time": "2020-01-13T05:12:41.517372Z",
     "start_time": "2020-01-13T05:12:29.130015Z"
    }
   },
   "outputs": [
    {
     "data": {
      "text/html": [
       "<div>\n",
       "<style scoped>\n",
       "    .dataframe tbody tr th:only-of-type {\n",
       "        vertical-align: middle;\n",
       "    }\n",
       "\n",
       "    .dataframe tbody tr th {\n",
       "        vertical-align: top;\n",
       "    }\n",
       "\n",
       "    .dataframe thead th {\n",
       "        text-align: right;\n",
       "    }\n",
       "</style>\n",
       "<table border=\"1\" class=\"dataframe\">\n",
       "  <thead>\n",
       "    <tr style=\"text-align: right;\">\n",
       "      <th></th>\n",
       "      <th>tanggal</th>\n",
       "      <th>harga_harian</th>\n",
       "    </tr>\n",
       "  </thead>\n",
       "  <tbody>\n",
       "    <tr>\n",
       "      <th>0</th>\n",
       "      <td>7/14/2021</td>\n",
       "      <td>14,404.17703 IDR</td>\n",
       "    </tr>\n",
       "    <tr>\n",
       "      <th>1</th>\n",
       "      <td>7/16/2021</td>\n",
       "      <td>14,495.41215 IDR</td>\n",
       "    </tr>\n",
       "    <tr>\n",
       "      <th>2</th>\n",
       "      <td>7/20/2021</td>\n",
       "      <td>14,514.10964 IDR</td>\n",
       "    </tr>\n",
       "    <tr>\n",
       "      <th>3</th>\n",
       "      <td>7/22/2021</td>\n",
       "      <td>14,508.09177 IDR</td>\n",
       "    </tr>\n",
       "    <tr>\n",
       "      <th>4</th>\n",
       "      <td>7/26/2021</td>\n",
       "      <td>14,487.54718 IDR</td>\n",
       "    </tr>\n",
       "  </tbody>\n",
       "</table>\n",
       "</div>"
      ],
      "text/plain": [
       "     tanggal      harga_harian\n",
       "0  7/14/2021  14,404.17703 IDR\n",
       "1  7/16/2021  14,495.41215 IDR\n",
       "2  7/20/2021  14,514.10964 IDR\n",
       "3  7/22/2021  14,508.09177 IDR\n",
       "4  7/26/2021  14,487.54718 IDR"
      ]
     },
     "execution_count": 50,
     "metadata": {},
     "output_type": "execute_result"
    }
   ],
   "source": [
    "df = pd.DataFrame(temp,columns=('tanggal','harga_harian'))\n",
    "df.head()"
   ]
  },
  {
   "cell_type": "markdown",
   "metadata": {},
   "source": [
    "Do the data cleaning here (please change this markdown with your explanation of what you do for data wrangling)"
   ]
  },
  {
   "cell_type": "code",
   "execution_count": 51,
   "metadata": {
    "ExecuteTime": {
     "end_time": "2020-01-13T05:12:59.165559Z",
     "start_time": "2020-01-13T05:12:58.910012Z"
    }
   },
   "outputs": [
    {
     "data": {
      "text/plain": [
       "tanggal         object\n",
       "harga_harian    object\n",
       "dtype: object"
      ]
     },
     "execution_count": 51,
     "metadata": {},
     "output_type": "execute_result"
    }
   ],
   "source": [
    "df.dtypes\n"
   ]
  },
  {
   "cell_type": "markdown",
   "metadata": {},
   "source": [
    "from the data above, at first the data in the 'tanggal' column and 'harga_harian' is still as \"object\" datatype. we need to change the data type in the 'tanggal' column to datetime64 and 'harga_harian' to float64 so we able to analyzing the data.\n",
    "\n",
    "moreover, we need to replace the string (,) and (IDR) in 'harga_harian'."
   ]
  },
  {
   "cell_type": "code",
   "execution_count": 55,
   "metadata": {},
   "outputs": [
    {
     "data": {
      "text/html": [
       "<div>\n",
       "<style scoped>\n",
       "    .dataframe tbody tr th:only-of-type {\n",
       "        vertical-align: middle;\n",
       "    }\n",
       "\n",
       "    .dataframe tbody tr th {\n",
       "        vertical-align: top;\n",
       "    }\n",
       "\n",
       "    .dataframe thead th {\n",
       "        text-align: right;\n",
       "    }\n",
       "</style>\n",
       "<table border=\"1\" class=\"dataframe\">\n",
       "  <thead>\n",
       "    <tr style=\"text-align: right;\">\n",
       "      <th></th>\n",
       "      <th>tanggal</th>\n",
       "      <th>harga_harian</th>\n",
       "    </tr>\n",
       "  </thead>\n",
       "  <tbody>\n",
       "    <tr>\n",
       "      <th>0</th>\n",
       "      <td>2021-07-14</td>\n",
       "      <td>14,404.177</td>\n",
       "    </tr>\n",
       "    <tr>\n",
       "      <th>1</th>\n",
       "      <td>2021-07-16</td>\n",
       "      <td>14,495.412</td>\n",
       "    </tr>\n",
       "    <tr>\n",
       "      <th>2</th>\n",
       "      <td>2021-07-20</td>\n",
       "      <td>14,514.110</td>\n",
       "    </tr>\n",
       "    <tr>\n",
       "      <th>3</th>\n",
       "      <td>2021-07-22</td>\n",
       "      <td>14,508.092</td>\n",
       "    </tr>\n",
       "    <tr>\n",
       "      <th>4</th>\n",
       "      <td>2021-07-26</td>\n",
       "      <td>14,487.547</td>\n",
       "    </tr>\n",
       "  </tbody>\n",
       "</table>\n",
       "</div>"
      ],
      "text/plain": [
       "     tanggal  harga_harian\n",
       "0 2021-07-14    14,404.177\n",
       "1 2021-07-16    14,495.412\n",
       "2 2021-07-20    14,514.110\n",
       "3 2021-07-22    14,508.092\n",
       "4 2021-07-26    14,487.547"
      ]
     },
     "execution_count": 55,
     "metadata": {},
     "output_type": "execute_result"
    }
   ],
   "source": [
    "df['tanggal']=df['tanggal'].astype('datetime64')\n",
    "df['harga_harian']=df['harga_harian'].str.replace('IDR','')\n",
    "df['harga_harian']=df['harga_harian'].str.replace(',','')\n",
    "df['harga_harian']=df['harga_harian'].astype('float64')\n",
    "df.head()"
   ]
  },
  {
   "cell_type": "code",
   "execution_count": 68,
   "metadata": {},
   "outputs": [],
   "source": [
    "df = df.set_index('tanggal')"
   ]
  },
  {
   "cell_type": "code",
   "execution_count": 69,
   "metadata": {},
   "outputs": [
    {
     "data": {
      "text/plain": [
       "<AxesSubplot:xlabel='tanggal'>"
      ]
     },
     "execution_count": 69,
     "metadata": {},
     "output_type": "execute_result"
    },
    {
     "data": {
      "image/png": "[encoded data removed]",
      "text/plain": [
       "<Figure size 432x288 with 1 Axes>"
      ]
     },
     "metadata": {
      "needs_background": "light"
     },
     "output_type": "display_data"
    }
   ],
   "source": [
    "df.plot()"
   ]
  },
  {
   "cell_type": "markdown",
   "metadata": {},
   "source": [
    "## Finishing This Notebook with Your Analysis and Conclusion\n",
    "\n",
    "First you can do start with making the data visualisation. "
   ]
  },
  {
   "cell_type": "markdown",
   "metadata": {
    "ExecuteTime": {
     "end_time": "2020-01-13T05:20:56.208237Z",
     "start_time": "2020-01-13T05:20:56.076043Z"
    }
   },
   "source": [
    "from the data above, we can see that the lowest rate was between October and November 2021. and the highest rate was on June 2021.\n"
   ]
  },
  {
   "cell_type": "markdown",
   "metadata": {},
   "source": [
    "\n",
    "(Put your analysis and conclusion here.)"
   ]
  },
  {
   "cell_type": "markdown",
   "metadata": {},
   "source": [
    "### Extra Challange\n",
    "\n",
    "This will be not included to the scoring. \n",
    "\n",
    "- You can create additional analysis from the data.\n",
    "- Implement it to the dashboard with at `app.py` dan `index.html`."
   ]
  }
 ],
 "metadata": {
  "kernelspec": {
   "display_name": "qoppa_da",
   "language": "python",
   "name": "qoppa_da"
  },
  "language_info": {
   "codemirror_mode": {
    "name": "ipython",
    "version": 3
   },
   "file_extension": ".py",
   "mimetype": "text/x-python",
   "name": "python",
   "nbconvert_exporter": "python",
   "pygments_lexer": "ipython3",
   "version": "3.9.7"
  }
 },
 "nbformat": 4,
 "nbformat_minor": 2
}
